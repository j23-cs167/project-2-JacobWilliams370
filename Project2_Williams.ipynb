{
  "nbformat": 4,
  "nbformat_minor": 0,
  "metadata": {
    "colab": {
      "provenance": [],
      "include_colab_link": true
    },
    "kernelspec": {
      "name": "python3",
      "display_name": "Python 3"
    },
    "language_info": {
      "name": "python"
    },
    "accelerator": "GPU",
    "gpuClass": "standard"
  },
  "cells": [
    {
      "cell_type": "markdown",
      "metadata": {
        "id": "view-in-github",
        "colab_type": "text"
      },
      "source": [
        "<a href=\"https://colab.research.google.com/github/j23-cs167/project-2-JacobWilliams370/blob/main/Project2_Williams.ipynb\" target=\"_parent\"><img src=\"https://colab.research.google.com/assets/colab-badge.svg\" alt=\"Open In Colab\"/></a>"
      ]
    },
    {
      "cell_type": "markdown",
      "source": [
        "# Project #2\n",
        "##Name:\n",
        "\n",
        "Proposed Points (out of 25):"
      ],
      "metadata": {
        "id": "rIepkBIuT_Pl"
      }
    },
    {
      "cell_type": "markdown",
      "source": [
        "**Points Attempted:** For this project, I attempted to achieve all the points (25/25) like I did for the first project. Below is a what I think I deserve for each category:\n",
        "\n",
        "Problem: 2/2\n",
        "\n",
        "Data Preparation: 2/2\n",
        "\n",
        "Research: 8/10\n",
        "\n",
        "Analysis: 10/10\n",
        "\n",
        "Bumps in the road: 1/1"
      ],
      "metadata": {
        "id": "v5-qDRPeGMy7"
      }
    },
    {
      "cell_type": "markdown",
      "source": [
        "# 1. Problem\n",
        "State the problem you are trying to solve with this machine learning experiment. Include a description of the data, where you got the data, and what you're trying to predict.."
      ],
      "metadata": {
        "id": "HbwKLNhzP8YO"
      }
    },
    {
      "cell_type": "markdown",
      "source": [
        "When I was debating what I wanted to do for my final project, I couldn't decide if I wanted to do a typical regression or a CNN. A typical regression is what I would be doing most likely on later in my career, but I was fascinated by CNN's. Ultimately, I decided to go with the CNN because I've completed lots of regression research before and I thought working with a CNN would give me a better range of experience.\n",
        "\n",
        "Our dataset deals with osteoarthritis, which is a condition where the natural cushioning betweens our joints, cartilage slowly wears away. This can give a person pain and the bones of the joints rub together. Our dataset contains pictures of healthy knees and knees with osteoarthritis. Our training set contains **2350** observations and our testing set contains **845** observations. I pulled this dataset off kaggle and it has decent usability with 7.5 (https://www.kaggle.com/datasets/farjanakabirsamanta/osteoarthritis-prediction). Below is a description of our problem.\n",
        "\n",
        "**Problem:** How accurately can we predict whether or not a person has osteoarthritis in their knees using a CNN?"
      ],
      "metadata": {
        "id": "LwseoUsMmCz2"
      }
    },
    {
      "cell_type": "markdown",
      "source": [
        "# 2. Data Preparation\n",
        "Explain your data preparation. What did you have to do to get your data in shape for your experiments? Why are you certain that you data is clean and prepared for use in your algorithms?"
      ],
      "metadata": {
        "id": "qR_foVOeQVL7"
      }
    },
    {
      "cell_type": "markdown",
      "source": [
        "Since we are using a CNN, I don't believe there is much I have to do to prep our data since it deals with pictures. Thus, we do not deal with missing data here. \n",
        "\n",
        "Thus, to make our data usable we need to split our dataset into testing and training. Below, I read in the separate training and testing datasets. Then I used the functions below to ensure our separate training and test datasets were read in correctly. \n",
        "\n",
        "Although, we do not need to necessarily deal with missing data, there are steps we must take to ensure our dataset is usable. We first we to specifiy the image dimensions for width and length, which are 200. Next, we need to determine the batch size to feed into our neural network, which we will use 32. Lastly, we need to rescale our pixel values, which range from 0 to 255, between 0 and 1.\n",
        "\n",
        "After these steps, I'm confident that our data is clean and ready to be used. "
      ],
      "metadata": {
        "id": "aMDJDnW_mOWu"
      }
    },
    {
      "cell_type": "code",
      "source": [
        "# load and prepare your data here\n",
        "import keras\n",
        "import tensorflow \n",
        "import sys\n",
        "from matplotlib import pyplot\n",
        "from keras.utils import to_categorical\n",
        "from keras.models import Sequential\n",
        "from keras.layers import Conv2D\n",
        "from keras.layers import MaxPooling2D\n",
        "from keras.layers import Dense\n",
        "from keras.layers import Flatten\n",
        "from keras.optimizers import SGD\n",
        "from keras.preprocessing.image import ImageDataGenerator\n",
        "import sys\n",
        "\n",
        "## Connect to Drive\n",
        "from google.colab import drive\n",
        "import pandas\n",
        "drive.mount('/content/drive')\n",
        "\n",
        "## Image dimensions\n",
        "img_width = 200\n",
        "img_height = 200\n",
        "\n",
        "## Directories for testing and training data\n",
        "train_data_dir = '/content/drive/MyDrive/CS167/datasets/osteo_data1/train/train' \n",
        "test_data_dir = '/content/drive/MyDrive/CS167/datasets/osteo_data1/test/test'\n",
        "\n",
        "## To feed the training images to the neural network in batches of 32 images at a time\n",
        "batch_size = 32\n",
        "\n",
        "## Rescale pixel values from [0, 255] to between 0 and 1\n",
        "datagen = ImageDataGenerator(rescale=1.0/255.0)\n",
        "\n",
        "## Look for training and testing data and figure out the class of each example based on subfolder\n",
        "train_data = datagen.flow_from_directory(\n",
        "        train_data_dir,\n",
        "        target_size=(img_width, img_height),\n",
        "        batch_size=batch_size,\n",
        "        class_mode='binary')\n",
        "\n",
        "test_data = datagen.flow_from_directory(\n",
        "        test_data_dir,\n",
        "        target_size=(img_width, img_height),\n",
        "        batch_size=batch_size,\n",
        "        class_mode='binary')"
      ],
      "metadata": {
        "id": "9dUdBChRmKxR",
        "colab": {
          "base_uri": "https://localhost:8080/"
        },
        "outputId": "4b4d380a-6ba2-42bd-e768-7cdd824b9959"
      },
      "execution_count": 2,
      "outputs": [
        {
          "output_type": "stream",
          "name": "stdout",
          "text": [
            "Mounted at /content/drive\n",
            "Found 2350 images belonging to 2 classes.\n",
            "Found 845 images belonging to 2 classes.\n"
          ]
        }
      ]
    },
    {
      "cell_type": "code",
      "source": [
        "%tensorflow_version 2.x\n",
        "import tensorflow as tf\n",
        "device_name = tf.test.gpu_device_name()\n",
        "if device_name != '/device:GPU:0':\n",
        "  raise SystemError('GPU device not found')\n",
        "print('Found GPU at: {}'.format(device_name))"
      ],
      "metadata": {
        "colab": {
          "base_uri": "https://localhost:8080/"
        },
        "id": "3O8zA5YlvZFV",
        "outputId": "2dbba4d2-7d05-4304-cf79-cd6b64ccc380"
      },
      "execution_count": 3,
      "outputs": [
        {
          "output_type": "stream",
          "name": "stdout",
          "text": [
            "Colab only includes TensorFlow 2.x; %tensorflow_version has no effect.\n",
            "Found GPU at: /device:GPU:0\n"
          ]
        }
      ]
    },
    {
      "cell_type": "markdown",
      "source": [
        "# 3. Research\n",
        "\n",
        "Put your code and your experiments here."
      ],
      "metadata": {
        "id": "Hc7HMmNPR10W"
      }
    },
    {
      "cell_type": "code",
      "source": [
        "# code goes here... don't forget to include graphs. Professor Urness loves graphs."
      ],
      "metadata": {
        "id": "XfaACsEOR4U5"
      },
      "execution_count": null,
      "outputs": []
    },
    {
      "cell_type": "code",
      "source": [
        "model = Sequential()\n",
        "model.add(Conv2D(32, (3, 3), activation = 'relu', input_shape=(img_width, img_height, 3)))\n",
        "model.add(MaxPooling2D(pool_size=(2, 2)))\n",
        "\n",
        "model.add(Conv2D(32, (3, 3),activation = 'relu'))\n",
        "model.add(MaxPooling2D(pool_size=(2, 2)))\n",
        "\n",
        "model.add(Flatten())\n",
        "model.add(Dense(64,activation = 'relu'))\n",
        "model.add(Dense(1,activation='sigmoid'))\n",
        "\n",
        "# need to compile the model before you can use it\n",
        "opt = SGD(lr=0.001, momentum=0.9)\n",
        "model.compile(optimizer=opt, loss='binary_crossentropy', metrics=['accuracy'])\n",
        "\n",
        "model.summary()\n",
        "\n",
        "training_results = model.fit_generator(\n",
        "        train_data, #training set\n",
        "        steps_per_epoch = len(train_data), \n",
        "        epochs=75, #number of epochs \n",
        "        validation_data = test_data, #testing set\n",
        "        validation_steps = len(test_data)\n",
        "        )"
      ],
      "metadata": {
        "colab": {
          "base_uri": "https://localhost:8080/"
        },
        "id": "_Tcfp1GHvn3Z",
        "outputId": "405f0254-8169-4b3b-835a-b3be28d44b30"
      },
      "execution_count": 10,
      "outputs": [
        {
          "output_type": "stream",
          "name": "stdout",
          "text": [
            "Model: \"sequential_5\"\n",
            "_________________________________________________________________\n",
            " Layer (type)                Output Shape              Param #   \n",
            "=================================================================\n",
            " conv2d_7 (Conv2D)           (None, 198, 198, 32)      896       \n",
            "                                                                 \n",
            " max_pooling2d_7 (MaxPooling  (None, 99, 99, 32)       0         \n",
            " 2D)                                                             \n",
            "                                                                 \n",
            " conv2d_8 (Conv2D)           (None, 97, 97, 32)        9248      \n",
            "                                                                 \n",
            " max_pooling2d_8 (MaxPooling  (None, 48, 48, 32)       0         \n",
            " 2D)                                                             \n",
            "                                                                 \n",
            " flatten_5 (Flatten)         (None, 73728)             0         \n",
            "                                                                 \n",
            " dense_10 (Dense)            (None, 64)                4718656   \n",
            "                                                                 \n",
            " dense_11 (Dense)            (None, 1)                 65        \n",
            "                                                                 \n",
            "=================================================================\n",
            "Total params: 4,728,865\n",
            "Trainable params: 4,728,865\n",
            "Non-trainable params: 0\n",
            "_________________________________________________________________\n",
            "Epoch 1/75\n"
          ]
        },
        {
          "output_type": "stream",
          "name": "stderr",
          "text": [
            "<ipython-input-10-e103118e4192>:18: UserWarning: `Model.fit_generator` is deprecated and will be removed in a future version. Please use `Model.fit`, which supports generators.\n",
            "  training_results = model.fit_generator(\n"
          ]
        },
        {
          "output_type": "stream",
          "name": "stdout",
          "text": [
            "74/74 [==============================] - 11s 143ms/step - loss: 0.6405 - accuracy: 0.6409 - val_loss: 0.8987 - val_accuracy: 0.3254\n",
            "Epoch 2/75\n",
            "74/74 [==============================] - 10s 139ms/step - loss: 0.5971 - accuracy: 0.6626 - val_loss: 1.2763 - val_accuracy: 0.3266\n",
            "Epoch 3/75\n",
            "74/74 [==============================] - 11s 152ms/step - loss: 0.5950 - accuracy: 0.6647 - val_loss: 0.9753 - val_accuracy: 0.3266\n",
            "Epoch 4/75\n",
            "74/74 [==============================] - 10s 140ms/step - loss: 0.5895 - accuracy: 0.6553 - val_loss: 1.4062 - val_accuracy: 0.3266\n",
            "Epoch 5/75\n",
            "74/74 [==============================] - 10s 139ms/step - loss: 0.5589 - accuracy: 0.6736 - val_loss: 1.9706 - val_accuracy: 0.3302\n",
            "Epoch 6/75\n",
            "74/74 [==============================] - 11s 142ms/step - loss: 0.5312 - accuracy: 0.6949 - val_loss: 1.7722 - val_accuracy: 0.3266\n",
            "Epoch 7/75\n",
            "74/74 [==============================] - 10s 139ms/step - loss: 0.5242 - accuracy: 0.7191 - val_loss: 1.9762 - val_accuracy: 0.3195\n",
            "Epoch 8/75\n",
            "74/74 [==============================] - 10s 139ms/step - loss: 0.5057 - accuracy: 0.7153 - val_loss: 2.7855 - val_accuracy: 0.3254\n",
            "Epoch 9/75\n",
            "74/74 [==============================] - 10s 141ms/step - loss: 0.5696 - accuracy: 0.6689 - val_loss: 1.5994 - val_accuracy: 0.3290\n",
            "Epoch 10/75\n",
            "74/74 [==============================] - 10s 140ms/step - loss: 0.4951 - accuracy: 0.7264 - val_loss: 2.2754 - val_accuracy: 0.3207\n",
            "Epoch 11/75\n",
            "74/74 [==============================] - 10s 140ms/step - loss: 0.4833 - accuracy: 0.7417 - val_loss: 2.2867 - val_accuracy: 0.3231\n",
            "Epoch 12/75\n",
            "74/74 [==============================] - 10s 141ms/step - loss: 0.4720 - accuracy: 0.7591 - val_loss: 2.4352 - val_accuracy: 0.3456\n",
            "Epoch 13/75\n",
            "74/74 [==============================] - 10s 141ms/step - loss: 0.4677 - accuracy: 0.7609 - val_loss: 2.4970 - val_accuracy: 0.3373\n",
            "Epoch 14/75\n",
            "74/74 [==============================] - 10s 139ms/step - loss: 0.4473 - accuracy: 0.7821 - val_loss: 3.0578 - val_accuracy: 0.3278\n",
            "Epoch 15/75\n",
            "74/74 [==============================] - 10s 141ms/step - loss: 0.4266 - accuracy: 0.7911 - val_loss: 2.6868 - val_accuracy: 0.3290\n",
            "Epoch 16/75\n",
            "74/74 [==============================] - 10s 138ms/step - loss: 0.4662 - accuracy: 0.7587 - val_loss: 2.6902 - val_accuracy: 0.3290\n",
            "Epoch 17/75\n",
            "74/74 [==============================] - 11s 143ms/step - loss: 0.4104 - accuracy: 0.8102 - val_loss: 2.6333 - val_accuracy: 0.3396\n",
            "Epoch 18/75\n",
            "74/74 [==============================] - 10s 142ms/step - loss: 0.3820 - accuracy: 0.8230 - val_loss: 2.7519 - val_accuracy: 0.3467\n",
            "Epoch 19/75\n",
            "74/74 [==============================] - 10s 138ms/step - loss: 0.4424 - accuracy: 0.7834 - val_loss: 2.7011 - val_accuracy: 0.3290\n",
            "Epoch 20/75\n",
            "74/74 [==============================] - 10s 139ms/step - loss: 0.3793 - accuracy: 0.8234 - val_loss: 3.2084 - val_accuracy: 0.3373\n",
            "Epoch 21/75\n",
            "74/74 [==============================] - 10s 140ms/step - loss: 0.3992 - accuracy: 0.8055 - val_loss: 2.7132 - val_accuracy: 0.3373\n",
            "Epoch 22/75\n",
            "74/74 [==============================] - 10s 140ms/step - loss: 0.3729 - accuracy: 0.8170 - val_loss: 3.5580 - val_accuracy: 0.3325\n",
            "Epoch 23/75\n",
            "74/74 [==============================] - 10s 140ms/step - loss: 0.3749 - accuracy: 0.8247 - val_loss: 3.9603 - val_accuracy: 0.3325\n",
            "Epoch 24/75\n",
            "74/74 [==============================] - 10s 139ms/step - loss: 0.3533 - accuracy: 0.8362 - val_loss: 3.3558 - val_accuracy: 0.3432\n",
            "Epoch 25/75\n",
            "74/74 [==============================] - 10s 140ms/step - loss: 0.3719 - accuracy: 0.8213 - val_loss: 2.6879 - val_accuracy: 0.3420\n",
            "Epoch 26/75\n",
            "74/74 [==============================] - 10s 140ms/step - loss: 0.3423 - accuracy: 0.8460 - val_loss: 2.8541 - val_accuracy: 0.3479\n",
            "Epoch 27/75\n",
            "74/74 [==============================] - 11s 152ms/step - loss: 0.3222 - accuracy: 0.8562 - val_loss: 4.1155 - val_accuracy: 0.3503\n",
            "Epoch 28/75\n",
            "74/74 [==============================] - 10s 140ms/step - loss: 0.3518 - accuracy: 0.8374 - val_loss: 2.7149 - val_accuracy: 0.3503\n",
            "Epoch 29/75\n",
            "74/74 [==============================] - 10s 140ms/step - loss: 0.3258 - accuracy: 0.8515 - val_loss: 4.0822 - val_accuracy: 0.3314\n",
            "Epoch 30/75\n",
            "74/74 [==============================] - 11s 143ms/step - loss: 0.3284 - accuracy: 0.8549 - val_loss: 3.8206 - val_accuracy: 0.3420\n",
            "Epoch 31/75\n",
            "74/74 [==============================] - 10s 139ms/step - loss: 0.3158 - accuracy: 0.8613 - val_loss: 3.8465 - val_accuracy: 0.3538\n",
            "Epoch 32/75\n",
            "74/74 [==============================] - 10s 139ms/step - loss: 0.3274 - accuracy: 0.8596 - val_loss: 3.6116 - val_accuracy: 0.3432\n",
            "Epoch 33/75\n",
            "74/74 [==============================] - 10s 141ms/step - loss: 0.3106 - accuracy: 0.8634 - val_loss: 3.7797 - val_accuracy: 0.3527\n",
            "Epoch 34/75\n",
            "74/74 [==============================] - 10s 139ms/step - loss: 0.3119 - accuracy: 0.8596 - val_loss: 4.0027 - val_accuracy: 0.3503\n",
            "Epoch 35/75\n",
            "74/74 [==============================] - 10s 140ms/step - loss: 0.3255 - accuracy: 0.8630 - val_loss: 3.8410 - val_accuracy: 0.3396\n",
            "Epoch 36/75\n",
            "74/74 [==============================] - 10s 141ms/step - loss: 0.3317 - accuracy: 0.8591 - val_loss: 4.7043 - val_accuracy: 0.3491\n",
            "Epoch 37/75\n",
            "74/74 [==============================] - 10s 140ms/step - loss: 0.2967 - accuracy: 0.8698 - val_loss: 4.3477 - val_accuracy: 0.3538\n",
            "Epoch 38/75\n",
            "74/74 [==============================] - 10s 139ms/step - loss: 0.2825 - accuracy: 0.8728 - val_loss: 5.1386 - val_accuracy: 0.3349\n",
            "Epoch 39/75\n",
            "74/74 [==============================] - 10s 140ms/step - loss: 0.3127 - accuracy: 0.8655 - val_loss: 4.0469 - val_accuracy: 0.3515\n",
            "Epoch 40/75\n",
            "74/74 [==============================] - 11s 151ms/step - loss: 0.2914 - accuracy: 0.8685 - val_loss: 3.9657 - val_accuracy: 0.3562\n",
            "Epoch 41/75\n",
            "74/74 [==============================] - 10s 137ms/step - loss: 0.2976 - accuracy: 0.8723 - val_loss: 3.9220 - val_accuracy: 0.3527\n",
            "Epoch 42/75\n",
            "74/74 [==============================] - 10s 141ms/step - loss: 0.2796 - accuracy: 0.8779 - val_loss: 4.5900 - val_accuracy: 0.3550\n",
            "Epoch 43/75\n",
            "74/74 [==============================] - 10s 139ms/step - loss: 0.3334 - accuracy: 0.8451 - val_loss: 3.8155 - val_accuracy: 0.3550\n",
            "Epoch 44/75\n",
            "74/74 [==============================] - 10s 139ms/step - loss: 0.2911 - accuracy: 0.8762 - val_loss: 3.8352 - val_accuracy: 0.3527\n",
            "Epoch 45/75\n",
            "74/74 [==============================] - 10s 139ms/step - loss: 0.3103 - accuracy: 0.8523 - val_loss: 4.0648 - val_accuracy: 0.3562\n",
            "Epoch 46/75\n",
            "74/74 [==============================] - 10s 140ms/step - loss: 0.2903 - accuracy: 0.8766 - val_loss: 3.7908 - val_accuracy: 0.3550\n",
            "Epoch 47/75\n",
            "74/74 [==============================] - 10s 140ms/step - loss: 0.2809 - accuracy: 0.8830 - val_loss: 3.7547 - val_accuracy: 0.3562\n",
            "Epoch 48/75\n",
            "74/74 [==============================] - 10s 141ms/step - loss: 0.2978 - accuracy: 0.8736 - val_loss: 3.8738 - val_accuracy: 0.3503\n",
            "Epoch 49/75\n",
            "74/74 [==============================] - 10s 139ms/step - loss: 0.2804 - accuracy: 0.8770 - val_loss: 3.8077 - val_accuracy: 0.3503\n",
            "Epoch 50/75\n",
            "74/74 [==============================] - 10s 138ms/step - loss: 0.2637 - accuracy: 0.8817 - val_loss: 4.5589 - val_accuracy: 0.3527\n",
            "Epoch 51/75\n",
            "74/74 [==============================] - 10s 141ms/step - loss: 0.2857 - accuracy: 0.8787 - val_loss: 4.1575 - val_accuracy: 0.3456\n",
            "Epoch 52/75\n",
            "74/74 [==============================] - 10s 139ms/step - loss: 0.2639 - accuracy: 0.8923 - val_loss: 4.8809 - val_accuracy: 0.3503\n",
            "Epoch 53/75\n",
            "74/74 [==============================] - 11s 151ms/step - loss: 0.2570 - accuracy: 0.8949 - val_loss: 4.7432 - val_accuracy: 0.3574\n",
            "Epoch 54/75\n",
            "74/74 [==============================] - 10s 141ms/step - loss: 0.2533 - accuracy: 0.8923 - val_loss: 4.6653 - val_accuracy: 0.3550\n",
            "Epoch 55/75\n",
            "74/74 [==============================] - 10s 139ms/step - loss: 0.2472 - accuracy: 0.8953 - val_loss: 5.0933 - val_accuracy: 0.3444\n",
            "Epoch 56/75\n",
            "74/74 [==============================] - 10s 139ms/step - loss: 0.2607 - accuracy: 0.8877 - val_loss: 4.9417 - val_accuracy: 0.3550\n",
            "Epoch 57/75\n",
            "74/74 [==============================] - 10s 140ms/step - loss: 0.2687 - accuracy: 0.8855 - val_loss: 5.0630 - val_accuracy: 0.3550\n",
            "Epoch 58/75\n",
            "74/74 [==============================] - 10s 139ms/step - loss: 0.2501 - accuracy: 0.8923 - val_loss: 3.9112 - val_accuracy: 0.3550\n",
            "Epoch 59/75\n",
            "74/74 [==============================] - 10s 140ms/step - loss: 0.2737 - accuracy: 0.8821 - val_loss: 3.8825 - val_accuracy: 0.3598\n",
            "Epoch 60/75\n",
            "74/74 [==============================] - 10s 140ms/step - loss: 0.2313 - accuracy: 0.9021 - val_loss: 4.2320 - val_accuracy: 0.3598\n",
            "Epoch 61/75\n",
            "74/74 [==============================] - 10s 139ms/step - loss: 0.2798 - accuracy: 0.8787 - val_loss: 4.6909 - val_accuracy: 0.3420\n",
            "Epoch 62/75\n",
            "74/74 [==============================] - 10s 140ms/step - loss: 0.2365 - accuracy: 0.9004 - val_loss: 5.1500 - val_accuracy: 0.3550\n",
            "Epoch 63/75\n",
            "74/74 [==============================] - 10s 139ms/step - loss: 0.2381 - accuracy: 0.9055 - val_loss: 4.7717 - val_accuracy: 0.3586\n",
            "Epoch 64/75\n",
            "74/74 [==============================] - 10s 140ms/step - loss: 0.2287 - accuracy: 0.9000 - val_loss: 4.6001 - val_accuracy: 0.3609\n",
            "Epoch 65/75\n",
            "74/74 [==============================] - 11s 149ms/step - loss: 0.2247 - accuracy: 0.9068 - val_loss: 4.8151 - val_accuracy: 0.3586\n",
            "Epoch 66/75\n",
            "74/74 [==============================] - 10s 139ms/step - loss: 0.2352 - accuracy: 0.8966 - val_loss: 4.0434 - val_accuracy: 0.3598\n",
            "Epoch 67/75\n",
            "74/74 [==============================] - 10s 140ms/step - loss: 0.2321 - accuracy: 0.9106 - val_loss: 4.0928 - val_accuracy: 0.3633\n",
            "Epoch 68/75\n",
            "74/74 [==============================] - 10s 141ms/step - loss: 0.2357 - accuracy: 0.9038 - val_loss: 5.2056 - val_accuracy: 0.3527\n",
            "Epoch 69/75\n",
            "74/74 [==============================] - 10s 138ms/step - loss: 0.2160 - accuracy: 0.9119 - val_loss: 5.5114 - val_accuracy: 0.3491\n",
            "Epoch 70/75\n",
            "74/74 [==============================] - 10s 138ms/step - loss: 0.2194 - accuracy: 0.9064 - val_loss: 4.9179 - val_accuracy: 0.3538\n",
            "Epoch 71/75\n",
            "74/74 [==============================] - 10s 140ms/step - loss: 0.2189 - accuracy: 0.9132 - val_loss: 4.9373 - val_accuracy: 0.3586\n",
            "Epoch 72/75\n",
            "74/74 [==============================] - 10s 139ms/step - loss: 0.2063 - accuracy: 0.9153 - val_loss: 4.2255 - val_accuracy: 0.3586\n",
            "Epoch 73/75\n",
            "74/74 [==============================] - 11s 143ms/step - loss: 0.2422 - accuracy: 0.8945 - val_loss: 4.7205 - val_accuracy: 0.3598\n",
            "Epoch 74/75\n",
            "74/74 [==============================] - 11s 145ms/step - loss: 0.2294 - accuracy: 0.9038 - val_loss: 5.1507 - val_accuracy: 0.3467\n",
            "Epoch 75/75\n",
            "74/74 [==============================] - 11s 146ms/step - loss: 0.2265 - accuracy: 0.9055 - val_loss: 4.8860 - val_accuracy: 0.3586\n"
          ]
        }
      ]
    },
    {
      "cell_type": "markdown",
      "source": [
        "Our first model appears to be underfitting."
      ],
      "metadata": {
        "id": "q4sVFA3PG0dJ"
      }
    },
    {
      "cell_type": "code",
      "source": [
        "# Normal CNN Graph\n",
        "import matplotlib.pyplot as plt\n",
        "%matplotlib inline\n",
        "plt.plot(training_results.history['accuracy'])\n",
        "plt.plot(training_results.history['val_accuracy'])\n",
        "plt.title('model accuracy')\n",
        "plt.ylabel('accuracy')\n",
        "plt.xlabel('epoch')\n",
        "plt.legend(['train', 'test'], loc='upper left')\n",
        "plt.show()"
      ],
      "metadata": {
        "colab": {
          "base_uri": "https://localhost:8080/",
          "height": 295
        },
        "id": "ccN6TQFCvp4G",
        "outputId": "22448247-d867-4bc8-d2b8-4b4103dfa540"
      },
      "execution_count": 11,
      "outputs": [
        {
          "output_type": "display_data",
          "data": {
            "text/plain": [
              "<Figure size 432x288 with 1 Axes>"
            ],
            "image/png": "[encoded data removed]"
          },
          "metadata": {
            "needs_background": "light"
          }
        }
      ]
    },
    {
      "cell_type": "code",
      "source": [
        "# Tuned CNN\n",
        "model2 = Sequential()\n",
        "model2.add(Conv2D(32, (3, 3), activation = 'relu', input_shape=(img_width, img_height, 3)))\n",
        "model2.add(MaxPooling2D(pool_size=(2, 2)))\n",
        "\n",
        "model2.add(Conv2D(32, (3, 3),activation = 'relu'))\n",
        "model2.add(MaxPooling2D(pool_size=(2, 2)))\n",
        "\n",
        "model2.add(Conv2D(32, (3, 3),activation = 'relu'))\n",
        "model2.add(MaxPooling2D(pool_size=(2, 2)))\n",
        "\n",
        "model2.add(Conv2D(64, (3, 3),activation = 'relu'))\n",
        "model2.add(MaxPooling2D(pool_size=(2, 2)))\n",
        "\n",
        "model2.add(Flatten())\n",
        "model2.add(Dense(64,activation = 'relu'))\n",
        "model2.add(Dense(1,activation='sigmoid'))\n",
        "\n",
        "# need to compile the model before you can use it\n",
        "opt = SGD(lr=0.05, momentum=0.9)\n",
        "model2.compile(optimizer=opt, loss='binary_crossentropy', metrics=['accuracy'])\n",
        "\n",
        "model2.summary()\n",
        "\n",
        "training_results2 = model2.fit_generator(\n",
        "        train_data, #training set\n",
        "        steps_per_epoch = len(train_data), \n",
        "        epochs=100, #number of epochs \n",
        "        validation_data = test_data, #testing set\n",
        "        validation_steps = len(test_data)\n",
        "        )"
      ],
      "metadata": {
        "colab": {
          "base_uri": "https://localhost:8080/"
        },
        "id": "ZuHHRXx2v1Yw",
        "outputId": "0666fcbd-0e9f-4b3f-c23e-81ef813a02ba"
      },
      "execution_count": 8,
      "outputs": [
        {
          "output_type": "stream",
          "name": "stdout",
          "text": [
            "Model: \"sequential_4\"\n",
            "_________________________________________________________________\n",
            " Layer (type)                Output Shape              Param #   \n",
            "=================================================================\n",
            " conv2d_22 (Conv2D)          (None, 198, 198, 32)      896       \n",
            "                                                                 \n",
            " max_pooling2d_22 (MaxPoolin  (None, 99, 99, 32)       0         \n",
            " g2D)                                                            \n",
            "                                                                 \n",
            " conv2d_23 (Conv2D)          (None, 97, 97, 32)        9248      \n",
            "                                                                 \n",
            " max_pooling2d_23 (MaxPoolin  (None, 48, 48, 32)       0         \n",
            " g2D)                                                            \n",
            "                                                                 \n",
            " conv2d_24 (Conv2D)          (None, 46, 46, 32)        9248      \n",
            "                                                                 \n",
            " max_pooling2d_24 (MaxPoolin  (None, 23, 23, 32)       0         \n",
            " g2D)                                                            \n",
            "                                                                 \n",
            " conv2d_25 (Conv2D)          (None, 21, 21, 64)        18496     \n",
            "                                                                 \n",
            " max_pooling2d_25 (MaxPoolin  (None, 10, 10, 64)       0         \n",
            " g2D)                                                            \n",
            "                                                                 \n",
            " flatten_4 (Flatten)         (None, 6400)              0         \n",
            "                                                                 \n",
            " dense_8 (Dense)             (None, 64)                409664    \n",
            "                                                                 \n",
            " dense_9 (Dense)             (None, 1)                 65        \n",
            "                                                                 \n",
            "=================================================================\n",
            "Total params: 447,617\n",
            "Trainable params: 447,617\n",
            "Non-trainable params: 0\n",
            "_________________________________________________________________\n",
            "Epoch 1/100\n"
          ]
        },
        {
          "output_type": "stream",
          "name": "stderr",
          "text": [
            "<ipython-input-8-cfdc3ce4e42c>:25: UserWarning: `Model.fit_generator` is deprecated and will be removed in a future version. Please use `Model.fit`, which supports generators.\n",
            "  training_results2 = model2.fit_generator(\n"
          ]
        },
        {
          "output_type": "stream",
          "name": "stdout",
          "text": [
            "74/74 [==============================] - 12s 162ms/step - loss: 0.6537 - accuracy: 0.6515 - val_loss: 0.8433 - val_accuracy: 0.3266\n",
            "Epoch 2/100\n",
            "74/74 [==============================] - 11s 152ms/step - loss: 0.6410 - accuracy: 0.6553 - val_loss: 1.0405 - val_accuracy: 0.3266\n",
            "Epoch 3/100\n",
            "74/74 [==============================] - 11s 148ms/step - loss: 0.5979 - accuracy: 0.6523 - val_loss: 1.4178 - val_accuracy: 0.3302\n",
            "Epoch 4/100\n",
            "74/74 [==============================] - 11s 150ms/step - loss: 0.5822 - accuracy: 0.6540 - val_loss: 2.8869 - val_accuracy: 0.3266\n",
            "Epoch 5/100\n",
            "74/74 [==============================] - 11s 149ms/step - loss: 0.5789 - accuracy: 0.6506 - val_loss: 3.4445 - val_accuracy: 0.3266\n",
            "Epoch 6/100\n",
            "74/74 [==============================] - 11s 150ms/step - loss: 0.5690 - accuracy: 0.6591 - val_loss: 2.7102 - val_accuracy: 0.3361\n",
            "Epoch 7/100\n",
            "74/74 [==============================] - 11s 149ms/step - loss: 0.5626 - accuracy: 0.6613 - val_loss: 3.4342 - val_accuracy: 0.3385\n",
            "Epoch 8/100\n",
            "74/74 [==============================] - 11s 148ms/step - loss: 0.5559 - accuracy: 0.6604 - val_loss: 4.3728 - val_accuracy: 0.3314\n",
            "Epoch 9/100\n",
            "74/74 [==============================] - 11s 148ms/step - loss: 0.5615 - accuracy: 0.6562 - val_loss: 5.5374 - val_accuracy: 0.3290\n",
            "Epoch 10/100\n",
            "74/74 [==============================] - 11s 148ms/step - loss: 0.5618 - accuracy: 0.6566 - val_loss: 3.0651 - val_accuracy: 0.3456\n",
            "Epoch 11/100\n",
            "74/74 [==============================] - 11s 147ms/step - loss: 0.5507 - accuracy: 0.6621 - val_loss: 3.3474 - val_accuracy: 0.3290\n",
            "Epoch 12/100\n",
            "74/74 [==============================] - 11s 147ms/step - loss: 0.5459 - accuracy: 0.6579 - val_loss: 5.0358 - val_accuracy: 0.3302\n",
            "Epoch 13/100\n",
            "74/74 [==============================] - 11s 150ms/step - loss: 0.5379 - accuracy: 0.6681 - val_loss: 3.7451 - val_accuracy: 0.3325\n",
            "Epoch 14/100\n",
            "74/74 [==============================] - 12s 161ms/step - loss: 0.5378 - accuracy: 0.6740 - val_loss: 2.2131 - val_accuracy: 0.3515\n",
            "Epoch 15/100\n",
            "74/74 [==============================] - 11s 148ms/step - loss: 0.5254 - accuracy: 0.7034 - val_loss: 5.0880 - val_accuracy: 0.3373\n",
            "Epoch 16/100\n",
            "74/74 [==============================] - 11s 148ms/step - loss: 0.4987 - accuracy: 0.7268 - val_loss: 2.4066 - val_accuracy: 0.3515\n",
            "Epoch 17/100\n",
            "74/74 [==============================] - 11s 148ms/step - loss: 0.5229 - accuracy: 0.6987 - val_loss: 5.2122 - val_accuracy: 0.3432\n",
            "Epoch 18/100\n",
            "74/74 [==============================] - 11s 148ms/step - loss: 0.4952 - accuracy: 0.7298 - val_loss: 4.8271 - val_accuracy: 0.3302\n",
            "Epoch 19/100\n",
            "74/74 [==============================] - 11s 149ms/step - loss: 0.5078 - accuracy: 0.7145 - val_loss: 4.0044 - val_accuracy: 0.3420\n",
            "Epoch 20/100\n",
            "74/74 [==============================] - 11s 147ms/step - loss: 0.4931 - accuracy: 0.7226 - val_loss: 4.9590 - val_accuracy: 0.3385\n",
            "Epoch 21/100\n",
            "74/74 [==============================] - 11s 149ms/step - loss: 0.4921 - accuracy: 0.7506 - val_loss: 3.7147 - val_accuracy: 0.3373\n",
            "Epoch 22/100\n",
            "74/74 [==============================] - 11s 147ms/step - loss: 0.4755 - accuracy: 0.7647 - val_loss: 2.5340 - val_accuracy: 0.3538\n",
            "Epoch 23/100\n",
            "74/74 [==============================] - 11s 147ms/step - loss: 0.4594 - accuracy: 0.7613 - val_loss: 4.9273 - val_accuracy: 0.3467\n",
            "Epoch 24/100\n",
            "74/74 [==============================] - 11s 148ms/step - loss: 0.4206 - accuracy: 0.7915 - val_loss: 6.8838 - val_accuracy: 0.3373\n",
            "Epoch 25/100\n",
            "74/74 [==============================] - 11s 145ms/step - loss: 0.4359 - accuracy: 0.7860 - val_loss: 3.7116 - val_accuracy: 0.3349\n",
            "Epoch 26/100\n",
            "74/74 [==============================] - 11s 147ms/step - loss: 0.4233 - accuracy: 0.7860 - val_loss: 6.1840 - val_accuracy: 0.3408\n",
            "Epoch 27/100\n",
            "74/74 [==============================] - 12s 158ms/step - loss: 0.4422 - accuracy: 0.7787 - val_loss: 6.4483 - val_accuracy: 0.3491\n",
            "Epoch 28/100\n",
            "74/74 [==============================] - 11s 147ms/step - loss: 0.5266 - accuracy: 0.6983 - val_loss: 3.6872 - val_accuracy: 0.3396\n",
            "Epoch 29/100\n",
            "74/74 [==============================] - 11s 148ms/step - loss: 0.5461 - accuracy: 0.6851 - val_loss: 2.9477 - val_accuracy: 0.3302\n",
            "Epoch 30/100\n",
            "74/74 [==============================] - 11s 147ms/step - loss: 0.5262 - accuracy: 0.6949 - val_loss: 3.2531 - val_accuracy: 0.3408\n",
            "Epoch 31/100\n",
            "74/74 [==============================] - 11s 147ms/step - loss: 0.6124 - accuracy: 0.6753 - val_loss: 0.8467 - val_accuracy: 0.3266\n",
            "Epoch 32/100\n",
            "74/74 [==============================] - 11s 148ms/step - loss: 0.6465 - accuracy: 0.6553 - val_loss: 0.8639 - val_accuracy: 0.3266\n",
            "Epoch 33/100\n",
            "74/74 [==============================] - 11s 148ms/step - loss: 0.6456 - accuracy: 0.6553 - val_loss: 0.8186 - val_accuracy: 0.3266\n",
            "Epoch 34/100\n",
            "74/74 [==============================] - 11s 149ms/step - loss: 0.6469 - accuracy: 0.6553 - val_loss: 0.8764 - val_accuracy: 0.3266\n",
            "Epoch 35/100\n",
            "74/74 [==============================] - 11s 148ms/step - loss: 0.6494 - accuracy: 0.6553 - val_loss: 0.9257 - val_accuracy: 0.3266\n",
            "Epoch 36/100\n",
            "74/74 [==============================] - 11s 149ms/step - loss: 0.6490 - accuracy: 0.6553 - val_loss: 0.9078 - val_accuracy: 0.3266\n",
            "Epoch 37/100\n",
            "74/74 [==============================] - 11s 149ms/step - loss: 0.6464 - accuracy: 0.6553 - val_loss: 0.8328 - val_accuracy: 0.3266\n",
            "Epoch 38/100\n",
            "74/74 [==============================] - 12s 157ms/step - loss: 0.6476 - accuracy: 0.6553 - val_loss: 0.9011 - val_accuracy: 0.3266\n",
            "Epoch 39/100\n",
            "74/74 [==============================] - 11s 153ms/step - loss: 0.6472 - accuracy: 0.6553 - val_loss: 0.8284 - val_accuracy: 0.3266\n",
            "Epoch 40/100\n",
            "74/74 [==============================] - 11s 153ms/step - loss: 0.6444 - accuracy: 0.6553 - val_loss: 0.8598 - val_accuracy: 0.3266\n",
            "Epoch 41/100\n",
            "74/74 [==============================] - 11s 151ms/step - loss: 0.6469 - accuracy: 0.6553 - val_loss: 0.8018 - val_accuracy: 0.3266\n",
            "Epoch 42/100\n",
            "74/74 [==============================] - 11s 150ms/step - loss: 0.6482 - accuracy: 0.6553 - val_loss: 0.8257 - val_accuracy: 0.3266\n",
            "Epoch 43/100\n",
            "74/74 [==============================] - 11s 150ms/step - loss: 0.6458 - accuracy: 0.6553 - val_loss: 0.8143 - val_accuracy: 0.3266\n",
            "Epoch 44/100\n",
            "74/74 [==============================] - 11s 149ms/step - loss: 0.6450 - accuracy: 0.6553 - val_loss: 0.8371 - val_accuracy: 0.3266\n",
            "Epoch 45/100\n",
            "74/74 [==============================] - 11s 150ms/step - loss: 0.6445 - accuracy: 0.6553 - val_loss: 0.8777 - val_accuracy: 0.3266\n",
            "Epoch 46/100\n",
            "74/74 [==============================] - 11s 151ms/step - loss: 0.6446 - accuracy: 0.6553 - val_loss: 0.8774 - val_accuracy: 0.3266\n",
            "Epoch 47/100\n",
            "74/74 [==============================] - 11s 150ms/step - loss: 0.6450 - accuracy: 0.6553 - val_loss: 0.8617 - val_accuracy: 0.3266\n",
            "Epoch 48/100\n",
            "74/74 [==============================] - 11s 151ms/step - loss: 0.6457 - accuracy: 0.6553 - val_loss: 0.8900 - val_accuracy: 0.3266\n",
            "Epoch 49/100\n",
            "74/74 [==============================] - 11s 149ms/step - loss: 0.6462 - accuracy: 0.6553 - val_loss: 0.8428 - val_accuracy: 0.3266\n",
            "Epoch 50/100\n",
            "74/74 [==============================] - 11s 148ms/step - loss: 0.6454 - accuracy: 0.6553 - val_loss: 0.8603 - val_accuracy: 0.3266\n",
            "Epoch 51/100\n",
            "74/74 [==============================] - 12s 160ms/step - loss: 0.6448 - accuracy: 0.6553 - val_loss: 0.8911 - val_accuracy: 0.3266\n",
            "Epoch 52/100\n",
            "74/74 [==============================] - 11s 147ms/step - loss: 0.6449 - accuracy: 0.6553 - val_loss: 0.8813 - val_accuracy: 0.3266\n",
            "Epoch 53/100\n",
            "74/74 [==============================] - 11s 149ms/step - loss: 0.6457 - accuracy: 0.6553 - val_loss: 0.8569 - val_accuracy: 0.3266\n",
            "Epoch 54/100\n",
            "74/74 [==============================] - 11s 148ms/step - loss: 0.6454 - accuracy: 0.6553 - val_loss: 0.8921 - val_accuracy: 0.3266\n",
            "Epoch 55/100\n",
            "74/74 [==============================] - 11s 149ms/step - loss: 0.6450 - accuracy: 0.6553 - val_loss: 0.8700 - val_accuracy: 0.3266\n",
            "Epoch 56/100\n",
            "74/74 [==============================] - 11s 151ms/step - loss: 0.6449 - accuracy: 0.6553 - val_loss: 0.8708 - val_accuracy: 0.3266\n",
            "Epoch 57/100\n",
            "74/74 [==============================] - 11s 147ms/step - loss: 0.6459 - accuracy: 0.6553 - val_loss: 0.8495 - val_accuracy: 0.3266\n",
            "Epoch 58/100\n",
            "74/74 [==============================] - 11s 148ms/step - loss: 0.6447 - accuracy: 0.6553 - val_loss: 0.8347 - val_accuracy: 0.3266\n",
            "Epoch 59/100\n",
            "74/74 [==============================] - 11s 146ms/step - loss: 0.6456 - accuracy: 0.6553 - val_loss: 0.8919 - val_accuracy: 0.3266\n",
            "Epoch 60/100\n",
            "74/74 [==============================] - 11s 150ms/step - loss: 0.6466 - accuracy: 0.6553 - val_loss: 0.8684 - val_accuracy: 0.3266\n",
            "Epoch 61/100\n",
            "74/74 [==============================] - 11s 148ms/step - loss: 0.6454 - accuracy: 0.6553 - val_loss: 0.8473 - val_accuracy: 0.3266\n",
            "Epoch 62/100\n",
            "74/74 [==============================] - 11s 148ms/step - loss: 0.6446 - accuracy: 0.6553 - val_loss: 0.8652 - val_accuracy: 0.3266\n",
            "Epoch 63/100\n",
            "74/74 [==============================] - 11s 155ms/step - loss: 0.6442 - accuracy: 0.6553 - val_loss: 0.9007 - val_accuracy: 0.3266\n",
            "Epoch 64/100\n",
            "74/74 [==============================] - 11s 150ms/step - loss: 0.6454 - accuracy: 0.6553 - val_loss: 0.8510 - val_accuracy: 0.3266\n",
            "Epoch 65/100\n",
            "74/74 [==============================] - 11s 148ms/step - loss: 0.6461 - accuracy: 0.6553 - val_loss: 0.8837 - val_accuracy: 0.3266\n",
            "Epoch 66/100\n",
            "74/74 [==============================] - 11s 152ms/step - loss: 0.6451 - accuracy: 0.6553 - val_loss: 0.8331 - val_accuracy: 0.3266\n",
            "Epoch 67/100\n",
            "74/74 [==============================] - 11s 152ms/step - loss: 0.6449 - accuracy: 0.6553 - val_loss: 0.8504 - val_accuracy: 0.3266\n",
            "Epoch 68/100\n",
            "74/74 [==============================] - 11s 148ms/step - loss: 0.6458 - accuracy: 0.6553 - val_loss: 0.8637 - val_accuracy: 0.3266\n",
            "Epoch 69/100\n",
            "74/74 [==============================] - 11s 148ms/step - loss: 0.6450 - accuracy: 0.6553 - val_loss: 0.8661 - val_accuracy: 0.3266\n",
            "Epoch 70/100\n",
            "74/74 [==============================] - 11s 150ms/step - loss: 0.6450 - accuracy: 0.6553 - val_loss: 0.8316 - val_accuracy: 0.3266\n",
            "Epoch 71/100\n",
            "74/74 [==============================] - 11s 149ms/step - loss: 0.6450 - accuracy: 0.6553 - val_loss: 0.8860 - val_accuracy: 0.3266\n",
            "Epoch 72/100\n",
            "74/74 [==============================] - 11s 149ms/step - loss: 0.6442 - accuracy: 0.6553 - val_loss: 0.8135 - val_accuracy: 0.3266\n",
            "Epoch 73/100\n",
            "74/74 [==============================] - 11s 148ms/step - loss: 0.6444 - accuracy: 0.6553 - val_loss: 0.8865 - val_accuracy: 0.3266\n",
            "Epoch 74/100\n",
            "74/74 [==============================] - 11s 147ms/step - loss: 0.6451 - accuracy: 0.6553 - val_loss: 0.8448 - val_accuracy: 0.3266\n",
            "Epoch 75/100\n",
            "74/74 [==============================] - 11s 149ms/step - loss: 0.6457 - accuracy: 0.6553 - val_loss: 0.8330 - val_accuracy: 0.3266\n",
            "Epoch 76/100\n",
            "74/74 [==============================] - 11s 147ms/step - loss: 0.6450 - accuracy: 0.6553 - val_loss: 0.8590 - val_accuracy: 0.3266\n",
            "Epoch 77/100\n",
            "74/74 [==============================] - 12s 160ms/step - loss: 0.6442 - accuracy: 0.6553 - val_loss: 0.8235 - val_accuracy: 0.3266\n",
            "Epoch 78/100\n",
            "74/74 [==============================] - 11s 147ms/step - loss: 0.6452 - accuracy: 0.6553 - val_loss: 0.8700 - val_accuracy: 0.3266\n",
            "Epoch 79/100\n",
            "74/74 [==============================] - 11s 146ms/step - loss: 0.6450 - accuracy: 0.6553 - val_loss: 0.8752 - val_accuracy: 0.3266\n",
            "Epoch 80/100\n",
            "74/74 [==============================] - 11s 148ms/step - loss: 0.6440 - accuracy: 0.6553 - val_loss: 0.8320 - val_accuracy: 0.3266\n",
            "Epoch 81/100\n",
            "74/74 [==============================] - 11s 147ms/step - loss: 0.6453 - accuracy: 0.6553 - val_loss: 0.8590 - val_accuracy: 0.3266\n",
            "Epoch 82/100\n",
            "74/74 [==============================] - 11s 148ms/step - loss: 0.6443 - accuracy: 0.6553 - val_loss: 0.8401 - val_accuracy: 0.3266\n",
            "Epoch 83/100\n",
            "74/74 [==============================] - 11s 148ms/step - loss: 0.6448 - accuracy: 0.6553 - val_loss: 0.8341 - val_accuracy: 0.3266\n",
            "Epoch 84/100\n",
            "74/74 [==============================] - 11s 148ms/step - loss: 0.6458 - accuracy: 0.6553 - val_loss: 0.8523 - val_accuracy: 0.3266\n",
            "Epoch 85/100\n",
            "74/74 [==============================] - 11s 146ms/step - loss: 0.6448 - accuracy: 0.6553 - val_loss: 0.8417 - val_accuracy: 0.3266\n",
            "Epoch 86/100\n",
            "74/74 [==============================] - 11s 146ms/step - loss: 0.6450 - accuracy: 0.6553 - val_loss: 0.8621 - val_accuracy: 0.3266\n",
            "Epoch 87/100\n",
            "74/74 [==============================] - 11s 147ms/step - loss: 0.6452 - accuracy: 0.6553 - val_loss: 0.8782 - val_accuracy: 0.3266\n",
            "Epoch 88/100\n",
            "74/74 [==============================] - 11s 146ms/step - loss: 0.6450 - accuracy: 0.6553 - val_loss: 0.8402 - val_accuracy: 0.3266\n",
            "Epoch 89/100\n",
            "74/74 [==============================] - 12s 157ms/step - loss: 0.6467 - accuracy: 0.6553 - val_loss: 0.9171 - val_accuracy: 0.3266\n",
            "Epoch 90/100\n",
            "74/74 [==============================] - 11s 148ms/step - loss: 0.6454 - accuracy: 0.6553 - val_loss: 0.8946 - val_accuracy: 0.3266\n",
            "Epoch 91/100\n",
            "74/74 [==============================] - 11s 146ms/step - loss: 0.6455 - accuracy: 0.6553 - val_loss: 0.8674 - val_accuracy: 0.3266\n",
            "Epoch 92/100\n",
            "74/74 [==============================] - 11s 147ms/step - loss: 0.6448 - accuracy: 0.6553 - val_loss: 0.8570 - val_accuracy: 0.3266\n",
            "Epoch 93/100\n",
            "74/74 [==============================] - 11s 150ms/step - loss: 0.6458 - accuracy: 0.6553 - val_loss: 0.8410 - val_accuracy: 0.3266\n",
            "Epoch 94/100\n",
            "74/74 [==============================] - 11s 148ms/step - loss: 0.6440 - accuracy: 0.6553 - val_loss: 0.8875 - val_accuracy: 0.3266\n",
            "Epoch 95/100\n",
            "74/74 [==============================] - 11s 148ms/step - loss: 0.6468 - accuracy: 0.6553 - val_loss: 0.8484 - val_accuracy: 0.3266\n",
            "Epoch 96/100\n",
            "74/74 [==============================] - 11s 151ms/step - loss: 0.6448 - accuracy: 0.6553 - val_loss: 0.8475 - val_accuracy: 0.3266\n",
            "Epoch 97/100\n",
            "74/74 [==============================] - 11s 147ms/step - loss: 0.6446 - accuracy: 0.6553 - val_loss: 0.8498 - val_accuracy: 0.3266\n",
            "Epoch 98/100\n",
            "74/74 [==============================] - 11s 147ms/step - loss: 0.6448 - accuracy: 0.6553 - val_loss: 0.8441 - val_accuracy: 0.3266\n",
            "Epoch 99/100\n",
            "74/74 [==============================] - 11s 146ms/step - loss: 0.6447 - accuracy: 0.6553 - val_loss: 0.8659 - val_accuracy: 0.3266\n",
            "Epoch 100/100\n",
            "74/74 [==============================] - 11s 146ms/step - loss: 0.6450 - accuracy: 0.6553 - val_loss: 0.8679 - val_accuracy: 0.3266\n"
          ]
        }
      ]
    },
    {
      "cell_type": "code",
      "source": [
        "import matplotlib.pyplot as plt\n",
        "%matplotlib inline\n",
        "plt.plot(training_results2.history['accuracy'])\n",
        "plt.plot(training_results2.history['val_accuracy'])\n",
        "plt.title('model accuracy')\n",
        "plt.ylabel('accuracy')\n",
        "plt.xlabel('epoch')\n",
        "plt.legend(['train', 'test'], loc='upper left')\n",
        "plt.show()"
      ],
      "metadata": {
        "colab": {
          "base_uri": "https://localhost:8080/",
          "height": 295
        },
        "id": "a18WCZOTv2he",
        "outputId": "1f3ad32b-8e72-4f69-d6c2-d810fc58f66a"
      },
      "execution_count": 9,
      "outputs": [
        {
          "output_type": "display_data",
          "data": {
            "text/plain": [
              "<Figure size 432x288 with 1 Axes>"
            ],
            "image/png": "[encoded data removed]"
          },
          "metadata": {
            "needs_background": "light"
          }
        }
      ]
    },
    {
      "cell_type": "code",
      "source": [
        "# Tuned CNN\n",
        "model3 = Sequential()\n",
        "model3.add(Conv2D(32, (3, 3), activation = 'relu', input_shape=(img_width, img_height, 3)))\n",
        "model3.add(MaxPooling2D(pool_size=(2, 2)))\n",
        "\n",
        "model3.add(Conv2D(32, (3, 3),activation = 'relu'))\n",
        "model3.add(MaxPooling2D(pool_size=(2, 2)))\n",
        "\n",
        "model3.add(Conv2D(32, (3, 3),activation = 'relu'))\n",
        "model3.add(MaxPooling2D(pool_size=(2, 2)))\n",
        "\n",
        "model3.add(Conv2D(64, (3, 3),activation = 'relu'))\n",
        "model3.add(MaxPooling2D(pool_size=(2, 2)))\n",
        "\n",
        "model3.add(Flatten())\n",
        "model3.add(Dense(64,activation = 'relu'))\n",
        "model3.add(Dense(1,activation='sigmoid'))\n",
        "\n",
        "# need to compile the model before you can use it\n",
        "opt = SGD(lr=0.005, momentum=0.9)\n",
        "model3.compile(optimizer=opt, loss='binary_crossentropy', metrics=['accuracy'])\n",
        "\n",
        "model3.summary()\n",
        "\n",
        "training_results3 = model2.fit_generator(\n",
        "        train_data, #training set\n",
        "        steps_per_epoch = len(train_data), \n",
        "        epochs=50, #number of epochs \n",
        "        validation_data = test_data, #testing set\n",
        "        validation_steps = len(test_data)\n",
        "        )"
      ],
      "metadata": {
        "colab": {
          "base_uri": "https://localhost:8080/"
        },
        "id": "AMy8JFTMuMvA",
        "outputId": "af86ffdd-b85f-4950-ac46-7dbbe7d0486f"
      },
      "execution_count": 12,
      "outputs": [
        {
          "output_type": "stream",
          "name": "stdout",
          "text": [
            "Model: \"sequential_7\"\n",
            "_________________________________________________________________\n",
            " Layer (type)                Output Shape              Param #   \n",
            "=================================================================\n",
            " conv2d_34 (Conv2D)          (None, 198, 198, 32)      896       \n",
            "                                                                 \n",
            " max_pooling2d_30 (MaxPoolin  (None, 99, 99, 32)       0         \n",
            " g2D)                                                            \n",
            "                                                                 \n",
            " conv2d_35 (Conv2D)          (None, 97, 97, 32)        9248      \n",
            "                                                                 \n",
            " max_pooling2d_31 (MaxPoolin  (None, 48, 48, 32)       0         \n",
            " g2D)                                                            \n",
            "                                                                 \n",
            " conv2d_36 (Conv2D)          (None, 46, 46, 32)        9248      \n",
            "                                                                 \n",
            " max_pooling2d_32 (MaxPoolin  (None, 23, 23, 32)       0         \n",
            " g2D)                                                            \n",
            "                                                                 \n",
            " conv2d_37 (Conv2D)          (None, 21, 21, 64)        18496     \n",
            "                                                                 \n",
            " max_pooling2d_33 (MaxPoolin  (None, 10, 10, 64)       0         \n",
            " g2D)                                                            \n",
            "                                                                 \n",
            " flatten_7 (Flatten)         (None, 6400)              0         \n",
            "                                                                 \n",
            " dense_14 (Dense)            (None, 64)                409664    \n",
            "                                                                 \n",
            " dense_15 (Dense)            (None, 1)                 65        \n",
            "                                                                 \n",
            "=================================================================\n",
            "Total params: 447,617\n",
            "Trainable params: 447,617\n",
            "Non-trainable params: 0\n",
            "_________________________________________________________________\n"
          ]
        },
        {
          "output_type": "stream",
          "name": "stderr",
          "text": [
            "/usr/local/lib/python3.8/dist-packages/keras/optimizers/optimizer_v2/gradient_descent.py:108: UserWarning: The `lr` argument is deprecated, use `learning_rate` instead.\n",
            "  super(SGD, self).__init__(name, **kwargs)\n",
            "<ipython-input-12-101f4a6733c6>:25: UserWarning: `Model.fit_generator` is deprecated and will be removed in a future version. Please use `Model.fit`, which supports generators.\n",
            "  training_results3 = model2.fit_generator(\n"
          ]
        },
        {
          "output_type": "stream",
          "name": "stdout",
          "text": [
            "Epoch 1/50\n",
            "74/74 [==============================] - 11s 148ms/step - loss: 0.6450 - accuracy: 0.6553 - val_loss: 0.8605 - val_accuracy: 0.3266\n",
            "Epoch 2/50\n",
            "74/74 [==============================] - 11s 149ms/step - loss: 0.6448 - accuracy: 0.6553 - val_loss: 0.8304 - val_accuracy: 0.3266\n",
            "Epoch 3/50\n",
            "74/74 [==============================] - 12s 160ms/step - loss: 0.6456 - accuracy: 0.6553 - val_loss: 0.8247 - val_accuracy: 0.3266\n",
            "Epoch 4/50\n",
            "74/74 [==============================] - 12s 161ms/step - loss: 0.6460 - accuracy: 0.6553 - val_loss: 0.8363 - val_accuracy: 0.3266\n",
            "Epoch 5/50\n",
            "74/74 [==============================] - 12s 162ms/step - loss: 0.6449 - accuracy: 0.6553 - val_loss: 0.8866 - val_accuracy: 0.3266\n",
            "Epoch 6/50\n",
            "74/74 [==============================] - 11s 147ms/step - loss: 0.6444 - accuracy: 0.6553 - val_loss: 0.8563 - val_accuracy: 0.3266\n",
            "Epoch 7/50\n",
            "74/74 [==============================] - 11s 148ms/step - loss: 0.6450 - accuracy: 0.6553 - val_loss: 0.8239 - val_accuracy: 0.3266\n",
            "Epoch 8/50\n",
            "74/74 [==============================] - 11s 148ms/step - loss: 0.6454 - accuracy: 0.6553 - val_loss: 0.8473 - val_accuracy: 0.3266\n",
            "Epoch 9/50\n",
            "74/74 [==============================] - 11s 153ms/step - loss: 0.6461 - accuracy: 0.6553 - val_loss: 0.8193 - val_accuracy: 0.3266\n",
            "Epoch 10/50\n",
            "74/74 [==============================] - 11s 153ms/step - loss: 0.6451 - accuracy: 0.6553 - val_loss: 0.8512 - val_accuracy: 0.3266\n",
            "Epoch 11/50\n",
            "74/74 [==============================] - 11s 149ms/step - loss: 0.6470 - accuracy: 0.6553 - val_loss: 0.8881 - val_accuracy: 0.3266\n",
            "Epoch 12/50\n",
            "74/74 [==============================] - 11s 149ms/step - loss: 0.6445 - accuracy: 0.6553 - val_loss: 0.8513 - val_accuracy: 0.3266\n",
            "Epoch 13/50\n",
            "74/74 [==============================] - 11s 147ms/step - loss: 0.6451 - accuracy: 0.6553 - val_loss: 0.8677 - val_accuracy: 0.3266\n",
            "Epoch 14/50\n",
            "74/74 [==============================] - 11s 148ms/step - loss: 0.6443 - accuracy: 0.6553 - val_loss: 0.8663 - val_accuracy: 0.3266\n",
            "Epoch 15/50\n",
            "74/74 [==============================] - 11s 149ms/step - loss: 0.6456 - accuracy: 0.6553 - val_loss: 0.8462 - val_accuracy: 0.3266\n",
            "Epoch 16/50\n",
            "74/74 [==============================] - 11s 148ms/step - loss: 0.6451 - accuracy: 0.6553 - val_loss: 0.8487 - val_accuracy: 0.3266\n",
            "Epoch 17/50\n",
            "74/74 [==============================] - 12s 159ms/step - loss: 0.6450 - accuracy: 0.6553 - val_loss: 0.8516 - val_accuracy: 0.3266\n",
            "Epoch 18/50\n",
            "74/74 [==============================] - 11s 148ms/step - loss: 0.6459 - accuracy: 0.6553 - val_loss: 0.8775 - val_accuracy: 0.3266\n",
            "Epoch 19/50\n",
            "74/74 [==============================] - 11s 149ms/step - loss: 0.6450 - accuracy: 0.6553 - val_loss: 0.8771 - val_accuracy: 0.3266\n",
            "Epoch 20/50\n",
            "74/74 [==============================] - 11s 149ms/step - loss: 0.6450 - accuracy: 0.6553 - val_loss: 0.8638 - val_accuracy: 0.3266\n",
            "Epoch 21/50\n",
            "74/74 [==============================] - 11s 149ms/step - loss: 0.6450 - accuracy: 0.6553 - val_loss: 0.8467 - val_accuracy: 0.3266\n",
            "Epoch 22/50\n",
            "74/74 [==============================] - 11s 149ms/step - loss: 0.6450 - accuracy: 0.6553 - val_loss: 0.8446 - val_accuracy: 0.3266\n",
            "Epoch 23/50\n",
            "74/74 [==============================] - 11s 152ms/step - loss: 0.6454 - accuracy: 0.6553 - val_loss: 0.8698 - val_accuracy: 0.3266\n",
            "Epoch 24/50\n",
            "74/74 [==============================] - 11s 150ms/step - loss: 0.6456 - accuracy: 0.6553 - val_loss: 0.8435 - val_accuracy: 0.3266\n",
            "Epoch 25/50\n",
            "74/74 [==============================] - 11s 149ms/step - loss: 0.6456 - accuracy: 0.6553 - val_loss: 0.8423 - val_accuracy: 0.3266\n",
            "Epoch 26/50\n",
            "74/74 [==============================] - 11s 148ms/step - loss: 0.6447 - accuracy: 0.6553 - val_loss: 0.8648 - val_accuracy: 0.3266\n",
            "Epoch 27/50\n",
            "74/74 [==============================] - 11s 149ms/step - loss: 0.6454 - accuracy: 0.6553 - val_loss: 0.8755 - val_accuracy: 0.3266\n",
            "Epoch 28/50\n",
            "74/74 [==============================] - 11s 149ms/step - loss: 0.6444 - accuracy: 0.6553 - val_loss: 0.8201 - val_accuracy: 0.3266\n",
            "Epoch 29/50\n",
            "74/74 [==============================] - 11s 149ms/step - loss: 0.6455 - accuracy: 0.6553 - val_loss: 0.8524 - val_accuracy: 0.3266\n",
            "Epoch 30/50\n",
            "74/74 [==============================] - 11s 149ms/step - loss: 0.6450 - accuracy: 0.6553 - val_loss: 0.8318 - val_accuracy: 0.3266\n",
            "Epoch 31/50\n",
            "74/74 [==============================] - 12s 161ms/step - loss: 0.6449 - accuracy: 0.6553 - val_loss: 0.8727 - val_accuracy: 0.3266\n",
            "Epoch 32/50\n",
            "74/74 [==============================] - 11s 149ms/step - loss: 0.6449 - accuracy: 0.6553 - val_loss: 0.8427 - val_accuracy: 0.3266\n",
            "Epoch 33/50\n",
            "74/74 [==============================] - 11s 149ms/step - loss: 0.6449 - accuracy: 0.6553 - val_loss: 0.8774 - val_accuracy: 0.3266\n",
            "Epoch 34/50\n",
            "74/74 [==============================] - 11s 149ms/step - loss: 0.6453 - accuracy: 0.6553 - val_loss: 0.8620 - val_accuracy: 0.3266\n",
            "Epoch 35/50\n",
            "74/74 [==============================] - 11s 148ms/step - loss: 0.6452 - accuracy: 0.6553 - val_loss: 0.8450 - val_accuracy: 0.3266\n",
            "Epoch 36/50\n",
            "74/74 [==============================] - 11s 149ms/step - loss: 0.6456 - accuracy: 0.6553 - val_loss: 0.8295 - val_accuracy: 0.3266\n",
            "Epoch 37/50\n",
            "74/74 [==============================] - 11s 149ms/step - loss: 0.6457 - accuracy: 0.6553 - val_loss: 0.9087 - val_accuracy: 0.3266\n",
            "Epoch 38/50\n",
            "74/74 [==============================] - 11s 153ms/step - loss: 0.6450 - accuracy: 0.6553 - val_loss: 0.9010 - val_accuracy: 0.3266\n",
            "Epoch 39/50\n",
            "74/74 [==============================] - 11s 151ms/step - loss: 0.6450 - accuracy: 0.6553 - val_loss: 0.8888 - val_accuracy: 0.3266\n",
            "Epoch 40/50\n",
            "74/74 [==============================] - 11s 149ms/step - loss: 0.6452 - accuracy: 0.6553 - val_loss: 0.8928 - val_accuracy: 0.3266\n",
            "Epoch 41/50\n",
            "74/74 [==============================] - 11s 149ms/step - loss: 0.6455 - accuracy: 0.6553 - val_loss: 0.8487 - val_accuracy: 0.3266\n",
            "Epoch 42/50\n",
            "74/74 [==============================] - 11s 148ms/step - loss: 0.6448 - accuracy: 0.6553 - val_loss: 0.8528 - val_accuracy: 0.3266\n",
            "Epoch 43/50\n",
            "74/74 [==============================] - 11s 149ms/step - loss: 0.6451 - accuracy: 0.6553 - val_loss: 0.8560 - val_accuracy: 0.3266\n",
            "Epoch 44/50\n",
            "74/74 [==============================] - 11s 154ms/step - loss: 0.6445 - accuracy: 0.6553 - val_loss: 0.9069 - val_accuracy: 0.3266\n",
            "Epoch 45/50\n",
            "74/74 [==============================] - 12s 155ms/step - loss: 0.6447 - accuracy: 0.6553 - val_loss: 0.8472 - val_accuracy: 0.3266\n",
            "Epoch 46/50\n",
            "74/74 [==============================] - 11s 148ms/step - loss: 0.6446 - accuracy: 0.6553 - val_loss: 0.8894 - val_accuracy: 0.3266\n",
            "Epoch 47/50\n",
            "74/74 [==============================] - 11s 150ms/step - loss: 0.6447 - accuracy: 0.6553 - val_loss: 0.9051 - val_accuracy: 0.3266\n",
            "Epoch 48/50\n",
            "74/74 [==============================] - 11s 149ms/step - loss: 0.6455 - accuracy: 0.6553 - val_loss: 0.8868 - val_accuracy: 0.3266\n",
            "Epoch 49/50\n",
            "74/74 [==============================] - 11s 149ms/step - loss: 0.6457 - accuracy: 0.6553 - val_loss: 0.8562 - val_accuracy: 0.3266\n",
            "Epoch 50/50\n",
            "74/74 [==============================] - 11s 149ms/step - loss: 0.6466 - accuracy: 0.6553 - val_loss: 0.8649 - val_accuracy: 0.3266\n"
          ]
        }
      ]
    },
    {
      "cell_type": "markdown",
      "source": [
        "#4. Analysis\n",
        "\n",
        "What did you discover? What insights/recommendations do you have? What did you find that was interesting? Which model was your best model, which models didn't work well? Why do you think this is? In general, I want a discussion of your experiment, the results, and what they mean."
      ],
      "metadata": {
        "id": "2Qu9bYPLmiv_"
      }
    },
    {
      "cell_type": "markdown",
      "source": [
        "I made CNN models and they all appear to be underfitting. We know this because our training accuracy is high especially in our first model, but our testing accuracy is not good at all. Our first model has two layers and had a training accuracy of 91.32 and a training accuracy of 36.33% and this was our best model.\n",
        "\n",
        "Next, I did research as to why our model might be underfitting. I found three reasons to try and tune. First, was to use the activation 'relu', which we were already using. Second, was to add more layers because we might not have enough depth for our model to make an accurate prediction. When I tried this on our second model with 2 added layers, it didn't make our model better, but worse. This really confused me because I thought more depth would improve our testing accuracy. Next, these first two models showed that our model wasn't learning, so I thought it might be helpful to change the learning rate. For our third model, I kept the depth at what it was because I still thought it would be helpful with a higher learn rate. First, I started with 5%, then 1%, and lastly .005%, but all of these different learn rates did not improve our model. Ultimately, this made our default CNN model the best because it had the highest training and testing accuracy. As to why my tuned models didn't work, I believe it has to do with the fact that my model isn't learning, but I was unable to fix this issue.\n",
        "\n",
        "As to my insights and recommendations, I believe more research and tuning is needed to be able to get any valuable insight and recommendations. I belieive this because our accuracy is so low for predicting osteoarthritis that it wouldn't help us predict anything.\n",
        "\n",
        "Lastly, I found it interesting and was surprised that I was wasn't able to build a usable and workable model. One theory I have is that it may just be hard to differentiate between a normal knee and a knee with osteoarthritis because when I looked at the normal knee and osteoarthritis knees, I couldn't see a difference. Thus, to achieve an accurate model, it may take more advanced knowledge of tuning CNN's than I have. In the future, I would like to do more research and see if I am able to tune our model better."
      ],
      "metadata": {
        "id": "k17sKBZUmqIH"
      }
    },
    {
      "cell_type": "markdown",
      "source": [
        "# 5. Bumps in the Road\n",
        "What challenges did you encounter? How did you overcome these challenges?"
      ],
      "metadata": {
        "id": "TemAuKxlm6dQ"
      }
    },
    {
      "cell_type": "markdown",
      "source": [
        "My first challenge was reading in the data. When I first ran in my model it was giving me 100% for training and testing, which I think was happening because the path for this dataset is test/test instead of just test/. Once I changed this, I got a more reasonable model because it didn't seem plausible to be getting 100% after 1 epoch with a default model.\n",
        "\n",
        "My biggest challenge was the tuning. I was unable to get a good, working model. I tried running 6 or 7 different models, but on every one I was not able to get my model to stop underfitting. Eventually, I had to change it quits because of how much time it was taking to run these models. In the future, I would like to research more and see if I can get a better model. The way I overcame these challenges was that I researched and tried different strategies to improve my model. Even though they didn't work, I still put in a lot of effort and I think this was a great learning experience.\n",
        "\n",
        "\n",
        "Below is the link I used for searching how to better tune a CNN:\n",
        "\n",
        "https://towardsdatascience.com/fine-tuning-a-cnn-model-for-image-classification-a886e4b539b3\n"
      ],
      "metadata": {
        "id": "zXEVEG9FnHgQ"
      }
    }
  ]
}